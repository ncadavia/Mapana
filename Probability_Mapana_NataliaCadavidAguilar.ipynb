{
  "nbformat": 4,
  "nbformat_minor": 0,
  "metadata": {
    "colab": {
      "name": "Probability_Mapana_NataliaCadavidAguilar.ipynb",
      "provenance": [],
      "collapsed_sections": [],
      "include_colab_link": true
    },
    "kernelspec": {
      "name": "python3",
      "display_name": "Python 3"
    },
    "language_info": {
      "name": "python"
    }
  },
  "cells": [
    {
      "cell_type": "markdown",
      "metadata": {
        "id": "view-in-github",
        "colab_type": "text"
      },
      "source": [
        "<a href=\"https://colab.research.google.com/github/ncadavia/Mapana/blob/main/Probability_Mapana_NataliaCadavidAguilar.ipynb\" target=\"_parent\"><img src=\"https://colab.research.google.com/assets/colab-badge.svg\" alt=\"Open In Colab\"/></a>"
      ]
    },
    {
      "cell_type": "code",
      "execution_count": 1,
      "metadata": {
        "id": "09GPk3BlML91"
      },
      "outputs": [],
      "source": [
        "import numpy as np\n",
        "import random as ran\n",
        "from scipy.stats import binom\n",
        "from scipy.stats import hypergeom"
      ]
    },
    {
      "cell_type": "markdown",
      "source": [
        "# <center> **Probability** </center>"
      ],
      "metadata": {
        "id": "uJV3Sl5Kv3V9"
      }
    },
    {
      "cell_type": "markdown",
      "source": [
        "# Problem 1:\n",
        "**A player tosses a coin 100 times. What it is the probability that it lands head exactly 50 times?**\n",
        "\n",
        "**Solution:**\n",
        "\n",
        "We suppose that the coin has the same probability of land head or tail. Given that tosses a coin is a Bernoulli variable and tosses a coin $n$ times is a binomial distribution. If $X \\sim binom(n,p)$ the $P(X=k)$ is the probability of get $k$ heads in $n$ tosses."
      ],
      "metadata": {
        "id": "HaXD8bftMPK5"
      }
    },
    {
      "cell_type": "code",
      "source": [
        "coin = binom(100, 1/2) # Define the random variable with n=100 and p=1/2"
      ],
      "metadata": {
        "id": "62MDOf1lNCB6"
      },
      "execution_count": 2,
      "outputs": []
    },
    {
      "cell_type": "code",
      "source": [
        "y = coin.pmf(50) # calculate the probability mass function at x=50\n",
        "print('The probability of getting 50 heads is ', y)"
      ],
      "metadata": {
        "colab": {
          "base_uri": "https://localhost:8080/"
        },
        "id": "gmXbV2crN47m",
        "outputId": "28cbe8b5-2c5f-47d9-ed2a-6adfb74b125b"
      },
      "execution_count": 3,
      "outputs": [
        {
          "output_type": "stream",
          "name": "stdout",
          "text": [
            "The probability of getting 50 heads is  0.07958923738717888\n"
          ]
        }
      ]
    },
    {
      "cell_type": "markdown",
      "source": [
        "# Problem 2:\n",
        "\n",
        "Jhon owes Paul 10000 gold coins, and pays him with 100 boxes each of which cointains 100 coins. Jhon is a thief, and decides to place a false coin in each of the boxes. Paul is suspicious, and decides to chose two coins from each box to check if they are valid. What is the probability that Jhon gets caught?\n",
        "\n",
        "**Solution:**\n",
        "\n",
        "First, we consider the probability that Jhon gets caught in one box. We are going to consider a hypergeometric random variable with population $N=100$, a sample of $n=2$ and 98 of the coins will be considered as success."
      ],
      "metadata": {
        "id": "f2XL94JYOlUG"
      }
    },
    {
      "cell_type": "code",
      "source": [
        "gold = hypergeom(100, 98, 2)"
      ],
      "metadata": {
        "id": "URjNWu79TBGa"
      },
      "execution_count": 4,
      "outputs": []
    },
    {
      "cell_type": "code",
      "source": [
        "print('Probability of getting caught in one box', 1 - gold.pmf(2))"
      ],
      "metadata": {
        "colab": {
          "base_uri": "https://localhost:8080/"
        },
        "id": "LHsLh90DTanc",
        "outputId": "6bc27f3d-61b5-491e-bf08-ea840642acff"
      },
      "execution_count": 5,
      "outputs": [
        {
          "output_type": "stream",
          "name": "stdout",
          "text": [
            "Probability of getting caught in one box 0.03979797979797883\n"
          ]
        }
      ]
    },
    {
      "cell_type": "markdown",
      "source": [
        "Now, if we consider independence in the 100 boxes, we can calculate the probability that **Jhon do not get caught** as the product of the probability in each box"
      ],
      "metadata": {
        "id": "ZDZO3EJjT2Qf"
      }
    },
    {
      "cell_type": "code",
      "source": [
        "gold.pmf(2) ** 100"
      ],
      "metadata": {
        "colab": {
          "base_uri": "https://localhost:8080/"
        },
        "id": "cj8DKHGcUJiY",
        "outputId": "9709deeb-a9ac-4eb7-c19c-5f88826a321d"
      },
      "execution_count": 6,
      "outputs": [
        {
          "output_type": "execute_result",
          "data": {
            "text/plain": [
              "0.017229058123151446"
            ]
          },
          "metadata": {},
          "execution_count": 6
        }
      ]
    },
    {
      "cell_type": "markdown",
      "source": [
        "Then, the probability of Jhon gets caught is \n"
      ],
      "metadata": {
        "id": "tJ2fGK0VUSgi"
      }
    },
    {
      "cell_type": "code",
      "source": [
        "1 - gold.pmf(2) ** 100"
      ],
      "metadata": {
        "colab": {
          "base_uri": "https://localhost:8080/"
        },
        "id": "ubVnW8bXUZI0",
        "outputId": "f919c6d6-298d-42e9-d479-71d3fa43ef57"
      },
      "execution_count": 7,
      "outputs": [
        {
          "output_type": "execute_result",
          "data": {
            "text/plain": [
              "0.9827709418768485"
            ]
          },
          "metadata": {},
          "execution_count": 7
        }
      ]
    },
    {
      "cell_type": "markdown",
      "source": [
        "# Problem 3:\n",
        "\n",
        "Suppose there is an election with two candidates, Alice and Beth. All votes are placed in an urn, Alice obtains 100 votes and Beth, 80 votes. The votes are counted one by one. What is the probability that, at least once during the process of counting, Alice and Beth have the same number of votes? \n",
        "\n",
        "**Solution:**\n",
        "\n",
        "For this problem we will use simulation using the random module of the `numpy` library. The key is to note that if at some point in the count Beth has more votes than Alice, then there will come a point where she has exactly the same number of votes. For the solution:\n",
        "- We will create a list with the 180 votes labeled 0 and 1.\n",
        "- We will use the `shuffle` function to simulate a possible vote counting order, that is, the way a jury takes votes out of the box.\n",
        "- We will simulate 100 thousand different possible counts and there we will estimate the probability."
      ],
      "metadata": {
        "id": "2BYa5Ek7Um3E"
      }
    },
    {
      "cell_type": "code",
      "source": [
        "Alice = [0 for i in range(100)] # Alice's votes are denoted by 0\n",
        "Beth = [1 for i in range(80)] # Beth's votes are denoted by 1\n",
        "votes = Alice + Beth"
      ],
      "metadata": {
        "id": "On8wP8nEYl29"
      },
      "execution_count": 8,
      "outputs": []
    },
    {
      "cell_type": "code",
      "source": [
        "def simulating(votes):\n",
        "  '''\n",
        "  Simulates a possible vote count\n",
        "  If at one point Beth is above or equal to Alice then\n",
        "  they will have the same number of votes at some point\n",
        "  '''\n",
        "  ran.shuffle(votes) # shuffling the voting list \n",
        "  v = 0 # We will count as a succes if at some point, Beth's votes are more than half of the votes \n",
        "  i = 1\n",
        "  while (v == 0 and i <= 180):\n",
        "    x = np.sum(votes[:i]) # We add Beth's votes up to position i\n",
        "    if x >= i/2: # If Beth's votes are more than half of the votes up to this point we have a success\n",
        "      v = v + 1\n",
        "    i += 1 \n",
        "  return v"
      ],
      "metadata": {
        "id": "8TlmrfVcdkQA"
      },
      "execution_count": 9,
      "outputs": []
    },
    {
      "cell_type": "code",
      "source": [
        "def answer(votes, n: int):\n",
        "  '''\n",
        "  Simulating n possible vote counts\n",
        "  Arguments:\n",
        "     votes: list of 0 or 1, 0 correspond to vote for Alice and 1 votes for Beth \n",
        "     n: an integer, number of simulations\n",
        "  '''\n",
        "  v = 0\n",
        "  for i in range(n):\n",
        "    v += simulating(votes)\n",
        "  print('The simulated probability with ', n, ' simulations is: ', v/n)"
      ],
      "metadata": {
        "id": "ml_f-mXdfxhs"
      },
      "execution_count": 10,
      "outputs": []
    },
    {
      "cell_type": "code",
      "source": [
        "answer(votes, 100000)"
      ],
      "metadata": {
        "colab": {
          "base_uri": "https://localhost:8080/"
        },
        "id": "Cq2URHengZxi",
        "outputId": "7ffa28c1-5f4b-4c6a-c756-99abec6cad8a"
      },
      "execution_count": 11,
      "outputs": [
        {
          "output_type": "stream",
          "name": "stdout",
          "text": [
            "The simulated probability with  100000  simulations is:  0.89062\n"
          ]
        }
      ]
    }
  ]
}