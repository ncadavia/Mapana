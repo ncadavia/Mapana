{
  "cells": [
    {
      "cell_type": "markdown",
      "metadata": {
        "id": "view-in-github",
        "colab_type": "text"
      },
      "source": [
        "<a href=\"https://colab.research.google.com/github/ncadavia/Mapana/blob/main/Algorithms_Mapana_NataliaCadavidAguilar.ipynb\" target=\"_parent\"><img src=\"https://colab.research.google.com/assets/colab-badge.svg\" alt=\"Open In Colab\"/></a>"
      ]
    },
    {
      "cell_type": "code",
      "execution_count": 1,
      "metadata": {
        "id": "zriPQa3l2yO0"
      },
      "outputs": [],
      "source": [
        "import numpy as np"
      ]
    },
    {
      "cell_type": "markdown",
      "source": [
        "# <center> Algorithms </center>"
      ],
      "metadata": {
        "id": "z8oqNiUl3GfU"
      }
    },
    {
      "cell_type": "markdown",
      "source": [
        "## <center> **Question 1:** </center>\n",
        "\n",
        "**Walking and counting**\n",
        "\n",
        "Laura keeps track of her walks. For each step, she registers whether she moves up or down. Her walks always begin and end at sea level. Each step up or down corresponds to a unit change in altitud. A valley is a sequence of consecutive steps that begins and ends at sea level, which stays below sea level in between the end points. Given a sequence of steps, marked (U) or down (D), count the number of valleys in a walk. The input of the algorithm is a stirng which consists of the leters U and D. The output is the number of valleys in the walk."
      ],
      "metadata": {
        "id": "EMm5sH6p24d9"
      }
    },
    {
      "cell_type": "code",
      "execution_count": 2,
      "metadata": {
        "id": "1FDY2JXn2yO2"
      },
      "outputs": [],
      "source": [
        "def number_valleys(walk: str):\n",
        "    \"\"\"\n",
        "    Count the number of valleys given a string up ('U') and\n",
        "    down ('D').\n",
        "    The valleys are given by steps that are bellow sea level,\n",
        "    this is bellow the starting point.\n",
        "    Arguments:\n",
        "       walk: an string\n",
        "    Returns:\n",
        "       An integer of the number of valles in the walk\n",
        "    \"\"\"\n",
        "    prev_step = 0\n",
        "    valley = 0\n",
        "    for k in walk:\n",
        "        step = prev_step - 1 if k=='D' else prev_step + 1\n",
        "        if (step == 0) and (prev_step < 0):\n",
        "            valley += 1\n",
        "        prev_step = step\n",
        "    return valley"
      ]
    },
    {
      "cell_type": "code",
      "source": [
        "number_valleys(\"UUUDDUUDUDDDDUDUUUDUDDUUUUUUUDDUUDUUDDDDDDDD\")"
      ],
      "metadata": {
        "colab": {
          "base_uri": "https://localhost:8080/"
        },
        "id": "uVMGRpCn3VhM",
        "outputId": "3e068068-4fcd-4731-a382-ec34a9a3ed40"
      },
      "execution_count": 3,
      "outputs": [
        {
          "output_type": "execute_result",
          "data": {
            "text/plain": [
              "2"
            ]
          },
          "metadata": {},
          "execution_count": 3
        }
      ]
    },
    {
      "cell_type": "markdown",
      "source": [
        "## <center> **Question 2:** </center>\n",
        "\n",
        "**Close twins**\n",
        "\n",
        "The distance between two values in a list is the absolute value of the difference between the indices. Given a list of numbers, compute the minimum distance between two equal values located at different positions. If there are no repeated values, return -1. The input of the algorithm is a list of numbers."
      ],
      "metadata": {
        "id": "Q6yAwkqJ3njj"
      }
    },
    {
      "cell_type": "code",
      "execution_count": 4,
      "metadata": {
        "id": "XsgpWyJs2yO2"
      },
      "outputs": [],
      "source": [
        "def minimum_distance(int_list):\n",
        "    \"\"\"\n",
        "    This function gives the minimum distance between two equals numbers in\n",
        "    a given list of integers.\n",
        "    Arguments:\n",
        "       int_list: a list of integers\n",
        "    Returns:\n",
        "       The minimum distance between all duplicated numbers in the list.\n",
        "    \"\"\"\n",
        "    seen = []\n",
        "    dup = list(set([x for x in int_list if x in seen or seen.append(x)]))\n",
        "    if dup == []:\n",
        "        dist = -1\n",
        "    else:\n",
        "        int_array = np.array(int_list)\n",
        "        dists = []\n",
        "        for k in dup:\n",
        "            indexes = np.where(int_array==k)[0]\n",
        "            dists += list(np.diff(indexes))\n",
        "        dist = min(dists)\n",
        "    return dist"
      ]
    },
    {
      "cell_type": "code",
      "source": [
        "minimum_distance([20, 12, 55, 100, 109, 6, 35, 56, 1, 25, 113, 57])"
      ],
      "metadata": {
        "colab": {
          "base_uri": "https://localhost:8080/"
        },
        "id": "KsXvRoYs4P4T",
        "outputId": "936b0fb0-b117-42c2-bb93-89632edc0714"
      },
      "execution_count": 5,
      "outputs": [
        {
          "output_type": "execute_result",
          "data": {
            "text/plain": [
              "-1"
            ]
          },
          "metadata": {},
          "execution_count": 5
        }
      ]
    },
    {
      "cell_type": "code",
      "source": [
        "minimum_distance([165, 115, 181, 137, 105, 31, 25, 199, 116, 165, 61, 159, 35, 123, 14, 188, 23, 118, 42, 121, 211, 121])"
      ],
      "metadata": {
        "colab": {
          "base_uri": "https://localhost:8080/"
        },
        "id": "lOAoU9AQ34zj",
        "outputId": "419cb71d-fac9-4c38-b655-4994ca3e3384"
      },
      "execution_count": 6,
      "outputs": [
        {
          "output_type": "execute_result",
          "data": {
            "text/plain": [
              "2"
            ]
          },
          "metadata": {},
          "execution_count": 6
        }
      ]
    },
    {
      "cell_type": "markdown",
      "source": [
        "## <center> **Question 3:** </center>\n",
        "\n",
        "**Painting a city**\n",
        "\n",
        "Laura is a painter who paints buildings. She is asked to paint a building that is located on a rectangular piece of land of size n x m. The land is divided into cells of area 1, with each cell indicated by its coordinates. The height of the building over the cell (i,j) is H[i][j].\n",
        "\n",
        "In order to paint a unit area of the building, Laura requires a liter of paint. She is supposed to paint the floor of the building as well as the exterior walls. Compute the number of liters of paint that are needed to complete the task.\n",
        "\n",
        "INPUT format: A matrix (list of lists) H of size n x m, where H[i][j] is the height of the building over the cell (i,j).\n",
        "\n",
        "OUTPUT format: An integer, the number of liters needed.\n",
        "\n",
        "Example 1: INPUT: [[1]], OUTOPUT: 6\n",
        "\n",
        "Example 2: INPUT: [[1,2]], OUTPUT: 12 <-- **Debe ser 14.**"
      ],
      "metadata": {
        "id": "0DHUPU6q4Sfi"
      }
    },
    {
      "cell_type": "code",
      "execution_count": 7,
      "metadata": {
        "id": "r5uuatjC2yO3"
      },
      "outputs": [],
      "source": [
        "def walls_per_floor(mat):\n",
        "    \"\"\"\n",
        "    This is an auxiliar function that helps to find the number of walls\n",
        "    that has to be painted per floor.\n",
        "    Arguments:\n",
        "       mat: a matrix that can contain negative entries\n",
        "    Returns:\n",
        "       The number of walls to be painted\n",
        "    \"\"\"\n",
        "    pos = np.where(mat > 0)\n",
        "    indexes = [[pos[0][k], pos[1][k]] for k in range(len(pos[0]))]\n",
        "    walls = []\n",
        "    for kj in indexes:\n",
        "        num_walls = 4\n",
        "        if [kj[0]-1, kj[1]] in indexes:\n",
        "           num_walls -= 1\n",
        "        if [kj[0], kj[1]-1] in indexes:\n",
        "           num_walls -= 1\n",
        "        if [kj[0]+1, kj[1]] in indexes:\n",
        "           num_walls -= 1\n",
        "        if [kj[0], kj[1]+1] in indexes:\n",
        "           num_walls -= 1\n",
        "        walls.append(num_walls)\n",
        "    return sum(walls)        \n",
        "\n",
        "\n",
        "def litters_of_paint(mat):\n",
        "    \"\"\"\n",
        "    Given a matrix, in which entries correspond to the height of a building,\n",
        "    this function gives the number of litters of pain that are needed to\n",
        "    paint the building.\n",
        "    Arguments:\n",
        "       A matrix with positive integer entries\n",
        "    Returns:\n",
        "       An integer that is the number of litters necessary to complete the\n",
        "       task\n",
        "    \"\"\"\n",
        "    mat = np.matrix(mat)\n",
        "    s = mat.shape\n",
        "    floor_ceil = s[0] * s[1] * 2\n",
        "    floor_walls = []\n",
        "    for k in range(mat.max()):\n",
        "        rv = walls_per_floor(mat - k)\n",
        "        floor_walls.append(rv)\n",
        "    return sum(floor_walls) + floor_ceil"
      ]
    },
    {
      "cell_type": "code",
      "source": [
        "litters_of_paint([[7, 3, 3], [3, 7, 5], [7, 7, 7], [4, 2, 6], [2, 3, 1], [5, 1, 2]])"
      ],
      "metadata": {
        "colab": {
          "base_uri": "https://localhost:8080/"
        },
        "id": "2z9YblzU4zox",
        "outputId": "9e39d681-b71d-467c-a7db-d4ff580ebdba"
      },
      "execution_count": 8,
      "outputs": [
        {
          "output_type": "execute_result",
          "data": {
            "text/plain": [
              "172"
            ]
          },
          "metadata": {},
          "execution_count": 8
        }
      ]
    }
  ],
  "metadata": {
    "kernelspec": {
      "display_name": "Python 3",
      "language": "python",
      "name": "python3"
    },
    "language_info": {
      "codemirror_mode": {
        "name": "ipython",
        "version": 3
      },
      "file_extension": ".py",
      "mimetype": "text/x-python",
      "name": "python",
      "nbconvert_exporter": "python",
      "pygments_lexer": "ipython3",
      "version": "3.8.3"
    },
    "colab": {
      "name": "Algorithms_Mapana - NataliaCadavidAguilar.ipynb",
      "provenance": [],
      "collapsed_sections": [],
      "include_colab_link": true
    }
  },
  "nbformat": 4,
  "nbformat_minor": 0
}